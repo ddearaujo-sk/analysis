{
 "cells": [
  {
   "cell_type": "markdown",
   "metadata": {},
   "source": [
    "# Adobe Analytics Template\n",
    "\n",
    "Used for quick set up and analysis in Adobe Analytics. \n",
    "\n",
    "Contains\n",
    "- Authentication\n",
    "- Connect Key metrics\n",
    "    - NLO App Starts\n",
    "    - App Completes (event43 & corrected metric)\n",
    "    - Visits, UVS\n",
    "    \n",
    "**Documentation**\n",
    "- Visualisation\n",
    "    - [Altair](https://altair-viz.github.io/gallery/simple_bar_chart.html)\n",
    "    - [Vincent](https://vincent.readthedocs.io/en/latest/index.html)\n",
    "    - [MatplotLib](https://matplotlib.org/)\n",
    "- [Pandas](https://pandas.pydata.org/pandas-docs/stable/)"
   ]
  },
  {
   "cell_type": "code",
   "execution_count": 8,
   "metadata": {},
   "outputs": [],
   "source": [
    "# import modules\n",
    "\n",
    "import pandas as pd\n",
    "import numpy as np\n",
    "from datetime import datetime, timedelta\n",
    "import json \n",
    "\n",
    "# Visualisations\n",
    "import altair as alt\n",
    "% matplotlib inline\n",
    "\n",
    "# adobe_analytics api modules\n",
    "from adobe_analytics import Client\n",
    "from adobe_analytics import ReportDefinition\n",
    "\n",
    "# Import credentials json file\n",
    "with open('adobe_creds.json') as f:\n",
    "    data = json.load(f)\n",
    "\n",
    "\n",
    "#### define adobe client using credentials  ####\n",
    "client = Client.from_json(\"adobe_creds.json\")\n",
    "\n",
    "# define desktop report suite\n",
    "dsk_suite = client.suites()['seekemployment']\n",
    "\n"
   ]
  },
  {
   "cell_type": "markdown",
   "metadata": {},
   "source": [
    "## Metrics and Segments\n",
    "\n",
    "- To load Apps Metrics runt the **Magic** Cell\n",
    "    - Contains suite info, metrics, segments"
   ]
  },
  {
   "cell_type": "code",
   "execution_count": null,
   "metadata": {},
   "outputs": [],
   "source": [
    "%load app_metrics.py"
   ]
  },
  {
   "cell_type": "code",
   "execution_count": 9,
   "metadata": {},
   "outputs": [],
   "source": [
    "####   METRICS AND SEGMENTS ####\n",
    "\n",
    "## METRICS\n",
    "\n",
    "# DESKTOP & MOBILE WEB\n",
    "\n",
    "# App Starts\n",
    "app_starts = dsk_suite.metrics()['event42']\n",
    "\n",
    "# Application Complete (event43) - corrected\n",
    "app_comp_corrected = dsk_suite.metrics()['cm200000660_5a935ddf1a444f63ff922d9e']\n",
    "\n",
    "# Visit WEB Adjusted\n",
    "visit_web_adjusted = dsk_suite.metrics()['cm200000660_5a77818241c44b21935d85af']\n",
    "\n",
    "# UV WEB Adjusted\n",
    "uv_web_adjusted = dsk_suite.metrics()['cm200000660_5a778e0141c44b21935d8726']\n",
    "\n",
    "# Visits\n",
    "visits = dsk_suite.metrics()['visits']\n",
    "\n",
    "# Unique Visitors\n",
    "unique_visitors = dsk_suite.metrics()['uniquevisitors']\n",
    "\n",
    "# Logged In Visit (desktop & mobile)\n",
    "logged_in_visit = dsk_suite.segments()['s200000660_5744f53be4b0394472dfd34f']\n",
    "\n",
    "\n",
    "\n",
    "## SEGMENTS\n",
    "\n",
    "# # DESKTOP & MOBILE WEB\n",
    "\n",
    "# 'name': 'Web: Historical data corrected'\n",
    "web_hist = dsk_suite.segments()['s200000660_574f937be4b0413ef9fff1c0']\n",
    "\n",
    "# Historical data corrections: Desktop\n",
    "hist_corr_desk = dsk_suite.segments()['s200000660_574f8a32e4b01a846f1176c8']\n",
    "\n",
    "\n",
    "# 'name': 'NLO app start'\n",
    "nlo_seg = dsk_suite.segments()['s200000660_58a2251ce4b034c46031b4aa']\n",
    "\n",
    "# Desktop Device Type\n",
    "desktop_devices = dsk_suite.segments()['s200000660_5994eb5a05871b59955e5f8f']\n",
    "\n",
    "# Mobile Web Experience\n",
    "mobile_devices = dsk_suite.segments()['s200000660_5994ec063b991261845d5a04']\n",
    "\n",
    "# Exclude No Impression and No PV\n",
    "ex_no_imp_no_pv = dsk_suite.segments()['s200000660_59fbb5cf506c8f0db6789512']\n",
    "\n"
   ]
  },
  {
   "cell_type": "markdown",
   "metadata": {},
   "source": [
    "# Build a report"
   ]
  },
  {
   "cell_type": "code",
   "execution_count": 29,
   "metadata": {},
   "outputs": [
    {
     "name": "stdout",
     "output_type": "stream",
     "text": [
      "Total Web App Start/Complete reports created\n",
      "Desktop Web App Start/Complete reports created\n",
      "Mobile Web App Start/Complete reports created\n",
      "Total Web App Start/Complete Reports Downloaded\n",
      "Desktop Web App Start/Complete Reports Downloaded\n",
      "Mobile Web App Start/Complete Reports Downloaded\n"
     ]
    }
   ],
   "source": [
    "# %load nlo_conversion_web.py\n",
    "\n",
    "# define dates & granularity\n",
    "# dynamic dates ie 1 day \n",
    "\n",
    "start_date = (datetime.today() - timedelta(30)).strftime(format='%Y-%m-%d')\n",
    "end_date = (datetime.today() - timedelta(1)).strftime(format='%Y-%m-%d')\n",
    "granularity = 'day'\n",
    "\n",
    "\n",
    "\n",
    "################## TOTAL WEB STARTS & COMPLETES\n",
    "\n",
    "# App Starts\n",
    "tot_nlo_start_rep = ReportDefinition(\n",
    "    dimensions=[],\n",
    "    metrics=[app_starts],\n",
    "    segments=[web_hist, nlo_seg],\n",
    "    date_from=start_date,\n",
    "    date_to=end_date,\n",
    "    granularity=granularity\n",
    ")\n",
    "\n",
    "# App Completes\n",
    "tot_app_comp_rep = ReportDefinition(\n",
    "    dimensions=[],\n",
    "    metrics=[app_comp_corrected],\n",
    "    segments=[web_hist],\n",
    "    date_from=start_date,\n",
    "    date_to=end_date,\n",
    "    granularity=granularity\n",
    ")\n",
    "print('Total Web App Start/Complete reports created')\n",
    "\n",
    "################## DESKTOP WEB \n",
    "\n",
    "# App Starts\n",
    "dsk_nlo_start_rep = ReportDefinition(\n",
    "    dimensions=[],\n",
    "    metrics=[app_starts],\n",
    "    segments=[web_hist, nlo_seg, desktop_devices, hist_corr_desk],\n",
    "    date_from=start_date,\n",
    "    date_to=end_date,\n",
    "    granularity=granularity\n",
    ")\n",
    "\n",
    "# App Completes\n",
    "dsk_app_comp_rep = ReportDefinition(\n",
    "    dimensions=[],\n",
    "    metrics=[app_comp_corrected],\n",
    "    segments=[web_hist, desktop_devices, hist_corr_desk],\n",
    "    date_from=start_date,\n",
    "    date_to=end_date,\n",
    "    granularity=granularity\n",
    ")\n",
    "print('Desktop Web App Start/Complete reports created')\n",
    "\n",
    "################## MOBILE WEB\n",
    "\n",
    "# App Starts\n",
    "mob_nlo_start_rep = ReportDefinition(\n",
    "    dimensions=[],\n",
    "    metrics=[app_starts],\n",
    "    segments=[web_hist, nlo_seg, mobile_devices],\n",
    "    date_from=start_date,\n",
    "    date_to=end_date,\n",
    "    granularity=granularity\n",
    ")\n",
    "\n",
    "# App Completes\n",
    "mob_app_comp_rep = ReportDefinition(\n",
    "    dimensions=[],\n",
    "    metrics=[app_comp_corrected],\n",
    "    segments=[web_hist, mobile_devices],\n",
    "    date_from=start_date,\n",
    "    date_to=end_date,\n",
    "    granularity=granularity\n",
    ")\n",
    "print('Mobile Web App Start/Complete reports created')\n",
    "\n",
    "\n",
    "\n",
    "\n",
    "\n",
    "############## DOWNLOAD REPORT REQUESTS\n",
    "\n",
    "#### TOTAL WEB\n",
    "\n",
    "# App Starts\n",
    "tot_nlo_start = dsk_suite.download(tot_nlo_start_rep)\n",
    "# App completes\n",
    "tot_app_comp = dsk_suite.download(tot_app_comp_rep)\n",
    "\n",
    "# merge requests together\n",
    "total_web_nlo = pd.merge(tot_nlo_start, tot_app_comp, how='left', on='Date')\n",
    "\n",
    "# create % col\n",
    "total_web_nlo['nlo_onversion'] = total_web_nlo['Application Complete (event43) - corrected'].astype(int) / total_web_nlo['Apps Started (event42)'].astype(int)\n",
    "total_web_nlo['report_type'] = 'total_web'\n",
    "\n",
    "total_web_nlo.columns = ['date', 'app_starts', 'app_completes', 'nlo_conversion', 'report_type']\n",
    "\n",
    "print('Total Web App Start/Complete Reports Downloaded')\n",
    "\n",
    "\n",
    "\n",
    "\n",
    "\n",
    "\n",
    "#### DESKTOP WEB\n",
    "\n",
    "# App Starts\n",
    "dsk_nlo_start = dsk_suite.download(dsk_nlo_start_rep)\n",
    "# App Completes\n",
    "dsk_app_comp = dsk_suite.download(dsk_app_comp_rep)\n",
    "\n",
    "# merge dfs together\n",
    "dsk_web_nlo = pd.merge(dsk_nlo_start, dsk_app_comp, how='left', on='Date')\n",
    "\n",
    "# create % col\n",
    "dsk_web_nlo['nlo_onversion'] = dsk_web_nlo['Application Complete (event43) - corrected'].astype(int)/dsk_web_nlo['Apps Started (event42)'].astype(int)\n",
    "dsk_web_nlo['report_type'] = 'desktop_web'\n",
    "\n",
    "dsk_web_nlo.columns = ['date', 'app_starts', 'app_completes', 'nlo_conversion', 'report_type']\n",
    "\n",
    "print('Desktop Web App Start/Complete Reports Downloaded')\n",
    "\n",
    "\n",
    "\n",
    "\n",
    "\n",
    "#### MOBILE WEB\n",
    "\n",
    "# App Starts\n",
    "mob_nlo_start = dsk_suite.download(mob_nlo_start_rep)\n",
    "# App Completes\n",
    "mob_app_comp = dsk_suite.download(mob_app_comp_rep)\n",
    "\n",
    "# merge dfs together\n",
    "mob_web_nlo = pd.merge(mob_nlo_start, mob_app_comp, how='left', on='Date')\n",
    "\n",
    "# create % col\n",
    "mob_web_nlo['nlo_onversion'] = mob_web_nlo['Application Complete (event43) - corrected'].astype(int)/mob_web_nlo['Apps Started (event42)'].astype(int)\n",
    "mob_web_nlo['report_type'] = 'mobile_web'\n",
    "\n",
    "mob_web_nlo.columns = ['date', 'app_starts', 'app_completes', 'nlo_conversion', 'report_type']\n",
    "\n",
    "print('Mobile Web App Start/Complete Reports Downloaded')\n",
    "print(' \\n all done!!')"
   ]
  },
  {
   "cell_type": "code",
   "execution_count": 48,
   "metadata": {},
   "outputs": [
    {
     "data": {
      "text/html": [
       "<div>\n",
       "<style scoped>\n",
       "    .dataframe tbody tr th:only-of-type {\n",
       "        vertical-align: middle;\n",
       "    }\n",
       "\n",
       "    .dataframe tbody tr th {\n",
       "        vertical-align: top;\n",
       "    }\n",
       "\n",
       "    .dataframe thead th {\n",
       "        text-align: right;\n",
       "    }\n",
       "</style>\n",
       "<table border=\"1\" class=\"dataframe\">\n",
       "  <thead>\n",
       "    <tr style=\"text-align: right;\">\n",
       "      <th></th>\n",
       "      <th>date</th>\n",
       "      <th>report_type</th>\n",
       "      <th>app_starts</th>\n",
       "      <th>app_completes</th>\n",
       "      <th>nlo_conversion</th>\n",
       "    </tr>\n",
       "  </thead>\n",
       "  <tbody>\n",
       "    <tr>\n",
       "      <th>0</th>\n",
       "      <td>2018-11-17</td>\n",
       "      <td>total_web</td>\n",
       "      <td>78288</td>\n",
       "      <td>53333</td>\n",
       "      <td>0.681241</td>\n",
       "    </tr>\n",
       "    <tr>\n",
       "      <th>1</th>\n",
       "      <td>2018-11-18</td>\n",
       "      <td>total_web</td>\n",
       "      <td>91914</td>\n",
       "      <td>63548</td>\n",
       "      <td>0.691385</td>\n",
       "    </tr>\n",
       "    <tr>\n",
       "      <th>2</th>\n",
       "      <td>2018-11-19</td>\n",
       "      <td>total_web</td>\n",
       "      <td>203563</td>\n",
       "      <td>143280</td>\n",
       "      <td>0.703861</td>\n",
       "    </tr>\n",
       "    <tr>\n",
       "      <th>3</th>\n",
       "      <td>2018-11-20</td>\n",
       "      <td>total_web</td>\n",
       "      <td>198284</td>\n",
       "      <td>139752</td>\n",
       "      <td>0.704807</td>\n",
       "    </tr>\n",
       "    <tr>\n",
       "      <th>4</th>\n",
       "      <td>2018-11-21</td>\n",
       "      <td>total_web</td>\n",
       "      <td>187334</td>\n",
       "      <td>131888</td>\n",
       "      <td>0.704026</td>\n",
       "    </tr>\n",
       "  </tbody>\n",
       "</table>\n",
       "</div>"
      ],
      "text/plain": [
       "        date report_type  app_starts  app_completes  nlo_conversion\n",
       "0 2018-11-17   total_web       78288          53333        0.681241\n",
       "1 2018-11-18   total_web       91914          63548        0.691385\n",
       "2 2018-11-19   total_web      203563         143280        0.703861\n",
       "3 2018-11-20   total_web      198284         139752        0.704807\n",
       "4 2018-11-21   total_web      187334         131888        0.704026"
      ]
     },
     "execution_count": 48,
     "metadata": {},
     "output_type": "execute_result"
    }
   ],
   "source": [
    "# MERGE REPORTS INTO MASTER\n",
    "nlo_frames = [total_web_nlo, dsk_web_nlo, mob_web_nlo]\n",
    "\n",
    "# concatenate DFs together\n",
    "df_nlo = pd.concat(nlo_frames, sort=True)\n",
    "# reset the index\n",
    "df_nlo.reset_index(drop=True, inplace=True)\n",
    "\n",
    "\n",
    "# Merge the frames together using date and report type\n",
    "#df_candi_extract = pd.merge(df_nlo, df_visits, on=['date', 'report_type'], how='left')\n",
    "df = df_nlo[['date','report_type', 'app_starts', 'app_completes', 'nlo_conversion']]\n",
    "\n",
    "# convert data types\n",
    "df['date'] = pd.to_datetime(df['date'])\n",
    "df['report_type'] = df['report_type'].astype('category')\n",
    "df['app_starts'] = df['app_starts'].astype('int32')\n",
    "df['app_completes'] = df['app_completes'].astype('int32')\n",
    "df['nlo_conversion'] = df['nlo_conversion'].astype('float32')\n",
    "\n",
    "# save to file\n",
    "date = datetime.now().strftime(format='%Y-%m-%d')\n",
    "file_name = 'nlo_conversion_{}.csv'.format(date)\n",
    "\n",
    "#df_candi_extract.to_csv(file_name, header=True, index=False)\n",
    "df.head()"
   ]
  },
  {
   "cell_type": "markdown",
   "metadata": {},
   "source": [
    "# plot data"
   ]
  },
  {
   "cell_type": "code",
   "execution_count": 69,
   "metadata": {},
   "outputs": [
    {
     "data": {
      "application/vnd.vegalite.v2+json": {
       "$schema": "https://vega.github.io/schema/vega-lite/v2.6.0.json",
       "config": {
        "view": {
         "height": 300,
         "width": 400
        }
       },
       "data": {
        "name": "data-273f0dc60f1a17574b9b37e6bcf44cd9"
       },
       "datasets": {
        "data-273f0dc60f1a17574b9b37e6bcf44cd9": [
         {
          "app_completes": 53333,
          "app_starts": 78288,
          "date": "2018-11-17T00:00:00",
          "nlo_conversion": 0.6812410354614258,
          "report_type": "total_web"
         },
         {
          "app_completes": 63548,
          "app_starts": 91914,
          "date": "2018-11-18T00:00:00",
          "nlo_conversion": 0.6913854479789734,
          "report_type": "total_web"
         },
         {
          "app_completes": 143280,
          "app_starts": 203563,
          "date": "2018-11-19T00:00:00",
          "nlo_conversion": 0.7038607001304626,
          "report_type": "total_web"
         },
         {
          "app_completes": 139752,
          "app_starts": 198284,
          "date": "2018-11-20T00:00:00",
          "nlo_conversion": 0.7048072218894958,
          "report_type": "total_web"
         },
         {
          "app_completes": 131888,
          "app_starts": 187334,
          "date": "2018-11-21T00:00:00",
          "nlo_conversion": 0.7040259838104248,
          "report_type": "total_web"
         },
         {
          "app_completes": 116449,
          "app_starts": 168461,
          "date": "2018-11-22T00:00:00",
          "nlo_conversion": 0.6912519931793213,
          "report_type": "total_web"
         },
         {
          "app_completes": 88101,
          "app_starts": 129080,
          "date": "2018-11-23T00:00:00",
          "nlo_conversion": 0.6825302243232727,
          "report_type": "total_web"
         },
         {
          "app_completes": 50182,
          "app_starts": 74842,
          "date": "2018-11-24T00:00:00",
          "nlo_conversion": 0.6705058813095093,
          "report_type": "total_web"
         },
         {
          "app_completes": 62116,
          "app_starts": 91174,
          "date": "2018-11-25T00:00:00",
          "nlo_conversion": 0.6812907457351685,
          "report_type": "total_web"
         },
         {
          "app_completes": 137515,
          "app_starts": 199612,
          "date": "2018-11-26T00:00:00",
          "nlo_conversion": 0.688911497592926,
          "report_type": "total_web"
         },
         {
          "app_completes": 136367,
          "app_starts": 196360,
          "date": "2018-11-27T00:00:00",
          "nlo_conversion": 0.694474458694458,
          "report_type": "total_web"
         },
         {
          "app_completes": 128874,
          "app_starts": 183604,
          "date": "2018-11-28T00:00:00",
          "nlo_conversion": 0.7019128203392029,
          "report_type": "total_web"
         },
         {
          "app_completes": 112883,
          "app_starts": 160883,
          "date": "2018-11-29T00:00:00",
          "nlo_conversion": 0.7016465663909912,
          "report_type": "total_web"
         },
         {
          "app_completes": 89432,
          "app_starts": 128770,
          "date": "2018-11-30T00:00:00",
          "nlo_conversion": 0.6945095658302307,
          "report_type": "total_web"
         },
         {
          "app_completes": 50425,
          "app_starts": 72853,
          "date": "2018-12-01T00:00:00",
          "nlo_conversion": 0.6921471953392029,
          "report_type": "total_web"
         },
         {
          "app_completes": 61107,
          "app_starts": 88054,
          "date": "2018-12-02T00:00:00",
          "nlo_conversion": 0.6939718723297119,
          "report_type": "total_web"
         },
         {
          "app_completes": 129401,
          "app_starts": 184520,
          "date": "2018-12-03T00:00:00",
          "nlo_conversion": 0.7012844085693359,
          "report_type": "total_web"
         },
         {
          "app_completes": 136572,
          "app_starts": 193863,
          "date": "2018-12-04T00:00:00",
          "nlo_conversion": 0.7044768929481506,
          "report_type": "total_web"
         },
         {
          "app_completes": 86748,
          "app_starts": 177244,
          "date": "2018-12-05T00:00:00",
          "nlo_conversion": 0.48942700028419495,
          "report_type": "total_web"
         },
         {
          "app_completes": 68500,
          "app_starts": 159190,
          "date": "2018-12-06T00:00:00",
          "nlo_conversion": 0.4303034245967865,
          "report_type": "total_web"
         },
         {
          "app_completes": 98794,
          "app_starts": 124368,
          "date": "2018-12-07T00:00:00",
          "nlo_conversion": 0.794368326663971,
          "report_type": "total_web"
         },
         {
          "app_completes": 62662,
          "app_starts": 70194,
          "date": "2018-12-08T00:00:00",
          "nlo_conversion": 0.8926973938941956,
          "report_type": "total_web"
         },
         {
          "app_completes": 74191,
          "app_starts": 83004,
          "date": "2018-12-09T00:00:00",
          "nlo_conversion": 0.8938243985176086,
          "report_type": "total_web"
         },
         {
          "app_completes": 153791,
          "app_starts": 181289,
          "date": "2018-12-10T00:00:00",
          "nlo_conversion": 0.8483195304870605,
          "report_type": "total_web"
         },
         {
          "app_completes": 135779,
          "app_starts": 175146,
          "date": "2018-12-11T00:00:00",
          "nlo_conversion": 0.7752332091331482,
          "report_type": "total_web"
         },
         {
          "app_completes": 127887,
          "app_starts": 164566,
          "date": "2018-12-12T00:00:00",
          "nlo_conversion": 0.7771167755126953,
          "report_type": "total_web"
         },
         {
          "app_completes": 117441,
          "app_starts": 151340,
          "date": "2018-12-13T00:00:00",
          "nlo_conversion": 0.7760076522827148,
          "report_type": "total_web"
         },
         {
          "app_completes": 104247,
          "app_starts": 121256,
          "date": "2018-12-14T00:00:00",
          "nlo_conversion": 0.8597265481948853,
          "report_type": "total_web"
         },
         {
          "app_completes": 61416,
          "app_starts": 68106,
          "date": "2018-12-15T00:00:00",
          "nlo_conversion": 0.9017707705497742,
          "report_type": "total_web"
         },
         {
          "app_completes": 73679,
          "app_starts": 80524,
          "date": "2018-12-16T00:00:00",
          "nlo_conversion": 0.9149942994117737,
          "report_type": "total_web"
         },
         {
          "app_completes": 42771,
          "app_starts": 58816,
          "date": "2018-11-17T00:00:00",
          "nlo_conversion": 0.7272000908851624,
          "report_type": "desktop_web"
         },
         {
          "app_completes": 52854,
          "app_starts": 72379,
          "date": "2018-11-18T00:00:00",
          "nlo_conversion": 0.7302394509315491,
          "report_type": "desktop_web"
         },
         {
          "app_completes": 119900,
          "app_starts": 163278,
          "date": "2018-11-19T00:00:00",
          "nlo_conversion": 0.734330415725708,
          "report_type": "desktop_web"
         },
         {
          "app_completes": 116749,
          "app_starts": 159111,
          "date": "2018-11-20T00:00:00",
          "nlo_conversion": 0.7337582111358643,
          "report_type": "desktop_web"
         },
         {
          "app_completes": 110065,
          "app_starts": 149846,
          "date": "2018-11-21T00:00:00",
          "nlo_conversion": 0.7345207929611206,
          "report_type": "desktop_web"
         },
         {
          "app_completes": 97347,
          "app_starts": 135379,
          "date": "2018-11-22T00:00:00",
          "nlo_conversion": 0.7190701365470886,
          "report_type": "desktop_web"
         },
         {
          "app_completes": 73314,
          "app_starts": 103278,
          "date": "2018-11-23T00:00:00",
          "nlo_conversion": 0.709870457649231,
          "report_type": "desktop_web"
         },
         {
          "app_completes": 40048,
          "app_starts": 56298,
          "date": "2018-11-24T00:00:00",
          "nlo_conversion": 0.7113574147224426,
          "report_type": "desktop_web"
         },
         {
          "app_completes": 51396,
          "app_starts": 71834,
          "date": "2018-11-25T00:00:00",
          "nlo_conversion": 0.7154828906059265,
          "report_type": "desktop_web"
         },
         {
          "app_completes": 114697,
          "app_starts": 160309,
          "date": "2018-11-26T00:00:00",
          "nlo_conversion": 0.7154744863510132,
          "report_type": "desktop_web"
         },
         {
          "app_completes": 113349,
          "app_starts": 157120,
          "date": "2018-11-27T00:00:00",
          "nlo_conversion": 0.7214167714118958,
          "report_type": "desktop_web"
         },
         {
          "app_completes": 107108,
          "app_starts": 147330,
          "date": "2018-11-28T00:00:00",
          "nlo_conversion": 0.7269937992095947,
          "report_type": "desktop_web"
         },
         {
          "app_completes": 93224,
          "app_starts": 128245,
          "date": "2018-11-29T00:00:00",
          "nlo_conversion": 0.7269211411476135,
          "report_type": "desktop_web"
         },
         {
          "app_completes": 73126,
          "app_starts": 101414,
          "date": "2018-11-30T00:00:00",
          "nlo_conversion": 0.7210641503334045,
          "report_type": "desktop_web"
         },
         {
          "app_completes": 40063,
          "app_starts": 54922,
          "date": "2018-12-01T00:00:00",
          "nlo_conversion": 0.7294526696205139,
          "report_type": "desktop_web"
         },
         {
          "app_completes": 50181,
          "app_starts": 68991,
          "date": "2018-12-02T00:00:00",
          "nlo_conversion": 0.7273557186126709,
          "report_type": "desktop_web"
         },
         {
          "app_completes": 108930,
          "app_starts": 150440,
          "date": "2018-12-03T00:00:00",
          "nlo_conversion": 0.7240760326385498,
          "report_type": "desktop_web"
         },
         {
          "app_completes": 111724,
          "app_starts": 152736,
          "date": "2018-12-04T00:00:00",
          "nlo_conversion": 0.7314844131469727,
          "report_type": "desktop_web"
         },
         {
          "app_completes": 70156,
          "app_starts": 140564,
          "date": "2018-12-05T00:00:00",
          "nlo_conversion": 0.4991036057472229,
          "report_type": "desktop_web"
         },
         {
          "app_completes": 55070,
          "app_starts": 125385,
          "date": "2018-12-06T00:00:00",
          "nlo_conversion": 0.4392072558403015,
          "report_type": "desktop_web"
         },
         {
          "app_completes": 79103,
          "app_starts": 96886,
          "date": "2018-12-07T00:00:00",
          "nlo_conversion": 0.8164544105529785,
          "report_type": "desktop_web"
         },
         {
          "app_completes": 48266,
          "app_starts": 51868,
          "date": "2018-12-08T00:00:00",
          "nlo_conversion": 0.9305545091629028,
          "report_type": "desktop_web"
         },
         {
          "app_completes": 58920,
          "app_starts": 63899,
          "date": "2018-12-09T00:00:00",
          "nlo_conversion": 0.9220801591873169,
          "report_type": "desktop_web"
         },
         {
          "app_completes": 122422,
          "app_starts": 142108,
          "date": "2018-12-10T00:00:00",
          "nlo_conversion": 0.8614715337753296,
          "report_type": "desktop_web"
         },
         {
          "app_completes": 109959,
          "app_starts": 136723,
          "date": "2018-12-11T00:00:00",
          "nlo_conversion": 0.8042465448379517,
          "report_type": "desktop_web"
         },
         {
          "app_completes": 103598,
          "app_starts": 128636,
          "date": "2018-12-12T00:00:00",
          "nlo_conversion": 0.8053577542304993,
          "report_type": "desktop_web"
         },
         {
          "app_completes": 95356,
          "app_starts": 118221,
          "date": "2018-12-13T00:00:00",
          "nlo_conversion": 0.8065910339355469,
          "report_type": "desktop_web"
         },
         {
          "app_completes": 82993,
          "app_starts": 92817,
          "date": "2018-12-14T00:00:00",
          "nlo_conversion": 0.894157350063324,
          "report_type": "desktop_web"
         },
         {
          "app_completes": 46065,
          "app_starts": 48553,
          "date": "2018-12-15T00:00:00",
          "nlo_conversion": 0.9487570524215698,
          "report_type": "desktop_web"
         },
         {
          "app_completes": 57835,
          "app_starts": 60627,
          "date": "2018-12-16T00:00:00",
          "nlo_conversion": 0.953947901725769,
          "report_type": "desktop_web"
         },
         {
          "app_completes": 10562,
          "app_starts": 19472,
          "date": "2018-11-17T00:00:00",
          "nlo_conversion": 0.5424199104309082,
          "report_type": "mobile_web"
         },
         {
          "app_completes": 10694,
          "app_starts": 19535,
          "date": "2018-11-18T00:00:00",
          "nlo_conversion": 0.5474277138710022,
          "report_type": "mobile_web"
         },
         {
          "app_completes": 23380,
          "app_starts": 40285,
          "date": "2018-11-19T00:00:00",
          "nlo_conversion": 0.5803648829460144,
          "report_type": "mobile_web"
         },
         {
          "app_completes": 23003,
          "app_starts": 39173,
          "date": "2018-11-20T00:00:00",
          "nlo_conversion": 0.5872156620025635,
          "report_type": "mobile_web"
         },
         {
          "app_completes": 21823,
          "app_starts": 37488,
          "date": "2018-11-21T00:00:00",
          "nlo_conversion": 0.5821329355239868,
          "report_type": "mobile_web"
         },
         {
          "app_completes": 19102,
          "app_starts": 33082,
          "date": "2018-11-22T00:00:00",
          "nlo_conversion": 0.5774136781692505,
          "report_type": "mobile_web"
         },
         {
          "app_completes": 14787,
          "app_starts": 25802,
          "date": "2018-11-23T00:00:00",
          "nlo_conversion": 0.5730950832366943,
          "report_type": "mobile_web"
         },
         {
          "app_completes": 10134,
          "app_starts": 18544,
          "date": "2018-11-24T00:00:00",
          "nlo_conversion": 0.5464840531349182,
          "report_type": "mobile_web"
         },
         {
          "app_completes": 10720,
          "app_starts": 19340,
          "date": "2018-11-25T00:00:00",
          "nlo_conversion": 0.5542916059494019,
          "report_type": "mobile_web"
         },
         {
          "app_completes": 22818,
          "app_starts": 39303,
          "date": "2018-11-26T00:00:00",
          "nlo_conversion": 0.5805663466453552,
          "report_type": "mobile_web"
         },
         {
          "app_completes": 23018,
          "app_starts": 39240,
          "date": "2018-11-27T00:00:00",
          "nlo_conversion": 0.5865952968597412,
          "report_type": "mobile_web"
         },
         {
          "app_completes": 21766,
          "app_starts": 36274,
          "date": "2018-11-28T00:00:00",
          "nlo_conversion": 0.6000441312789917,
          "report_type": "mobile_web"
         },
         {
          "app_completes": 19659,
          "app_starts": 32638,
          "date": "2018-11-29T00:00:00",
          "nlo_conversion": 0.6023346781730652,
          "report_type": "mobile_web"
         },
         {
          "app_completes": 16306,
          "app_starts": 27356,
          "date": "2018-11-30T00:00:00",
          "nlo_conversion": 0.5960666537284851,
          "report_type": "mobile_web"
         },
         {
          "app_completes": 10362,
          "app_starts": 17931,
          "date": "2018-12-01T00:00:00",
          "nlo_conversion": 0.5778818726539612,
          "report_type": "mobile_web"
         },
         {
          "app_completes": 10926,
          "app_starts": 19063,
          "date": "2018-12-02T00:00:00",
          "nlo_conversion": 0.5731521844863892,
          "report_type": "mobile_web"
         },
         {
          "app_completes": 20471,
          "app_starts": 34080,
          "date": "2018-12-03T00:00:00",
          "nlo_conversion": 0.6006748676300049,
          "report_type": "mobile_web"
         },
         {
          "app_completes": 24848,
          "app_starts": 41127,
          "date": "2018-12-04T00:00:00",
          "nlo_conversion": 0.6041772961616516,
          "report_type": "mobile_web"
         },
         {
          "app_completes": 16592,
          "app_starts": 36680,
          "date": "2018-12-05T00:00:00",
          "nlo_conversion": 0.4523445963859558,
          "report_type": "mobile_web"
         },
         {
          "app_completes": 13430,
          "app_starts": 33805,
          "date": "2018-12-06T00:00:00",
          "nlo_conversion": 0.3972785174846649,
          "report_type": "mobile_web"
         },
         {
          "app_completes": 19691,
          "app_starts": 27482,
          "date": "2018-12-07T00:00:00",
          "nlo_conversion": 0.7165053486824036,
          "report_type": "mobile_web"
         },
         {
          "app_completes": 14396,
          "app_starts": 18326,
          "date": "2018-12-08T00:00:00",
          "nlo_conversion": 0.785550594329834,
          "report_type": "mobile_web"
         },
         {
          "app_completes": 15271,
          "app_starts": 19105,
          "date": "2018-12-09T00:00:00",
          "nlo_conversion": 0.7993195652961731,
          "report_type": "mobile_web"
         },
         {
          "app_completes": 31369,
          "app_starts": 39181,
          "date": "2018-12-10T00:00:00",
          "nlo_conversion": 0.8006176352500916,
          "report_type": "mobile_web"
         },
         {
          "app_completes": 25820,
          "app_starts": 38423,
          "date": "2018-12-11T00:00:00",
          "nlo_conversion": 0.6719933152198792,
          "report_type": "mobile_web"
         },
         {
          "app_completes": 24289,
          "app_starts": 35930,
          "date": "2018-12-12T00:00:00",
          "nlo_conversion": 0.6760088801383972,
          "report_type": "mobile_web"
         },
         {
          "app_completes": 22085,
          "app_starts": 33119,
          "date": "2018-12-13T00:00:00",
          "nlo_conversion": 0.666837751865387,
          "report_type": "mobile_web"
         },
         {
          "app_completes": 21254,
          "app_starts": 28439,
          "date": "2018-12-14T00:00:00",
          "nlo_conversion": 0.7473539710044861,
          "report_type": "mobile_web"
         },
         {
          "app_completes": 15351,
          "app_starts": 19553,
          "date": "2018-12-15T00:00:00",
          "nlo_conversion": 0.7850969433784485,
          "report_type": "mobile_web"
         },
         {
          "app_completes": 15844,
          "app_starts": 19897,
          "date": "2018-12-16T00:00:00",
          "nlo_conversion": 0.7963009476661682,
          "report_type": "mobile_web"
         }
        ]
       },
       "encoding": {
        "color": {
         "field": "report_type",
         "type": "nominal"
        },
        "x": {
         "axis": {
          "title": "Date"
         },
         "field": "date",
         "type": "temporal"
        },
        "y": {
         "axis": {
          "title": "Application Complete Volume"
         },
         "field": "app_completes",
         "type": "quantitative"
        }
       },
       "height": 400,
       "mark": "line",
       "selection": {
        "selector017": {
         "bind": "scales",
         "encodings": [
          "x",
          "y"
         ],
         "mark": {
          "fill": "#333",
          "fillOpacity": 0.125,
          "stroke": "white"
         },
         "on": "[mousedown, window:mouseup] > window:mousemove!",
         "resolve": "global",
         "translate": "[mousedown, window:mouseup] > window:mousemove!",
         "type": "interval",
         "zoom": "wheel!"
        }
       },
       "title": "NLO Conversion",
       "width": 600
      },
      "image/png": "[encoded data removed]",
      "text/plain": [
       "<VegaLite 2 object>\n",
       "\n",
       "If you see this message, it means the renderer has not been properly enabled\n",
       "for the frontend that you are using. For more information, see\n",
       "https://altair-viz.github.io/user_guide/troubleshooting.html\n"
      ]
     },
     "execution_count": 69,
     "metadata": {},
     "output_type": "execute_result"
    }
   ],
   "source": [
    "data = df.query('report_type == \"desktop_web\"')\n",
    "\n",
    "alt.Chart(df, height=400, width=600).mark_line().encode(\n",
    "    x = alt.X('date', axis=alt.Axis(title='Date')),\n",
    "    y = alt.Y('app_completes', axis=alt.Axis(title='Application Complete Volume')),\n",
    "    color = 'report_type').properties(title=\"NLO Conversion\").interactive()"
   ]
  }
 ],
 "metadata": {
  "kernelspec": {
   "display_name": "Python 3",
   "language": "python",
   "name": "python3"
  },
  "language_info": {
   "codemirror_mode": {
    "name": "ipython",
    "version": 3
   },
   "file_extension": ".py",
   "mimetype": "text/x-python",
   "name": "python",
   "nbconvert_exporter": "python",
   "pygments_lexer": "ipython3",
   "version": "3.6.5"
  }
 },
 "nbformat": 4,
 "nbformat_minor": 2
}
