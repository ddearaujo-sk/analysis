{
 "cells": [
  {
   "cell_type": "markdown",
   "metadata": {},
   "source": [
    "# JOBMAIL SmarterSearch test\n",
    "\n",
    "The Notifications team spent a large portion of Q1 working with Hobbit to integrate SmarterSearch into their JobMail and JobMailLite products. Prior to the experiment, jobs surfaced in emails were powered byt the JobSearch API. \n",
    "\n",
    "**Experiment objective:**  The team wanted to compare _job clicks per open_ for unique candidates between emails generated from the SmarterSearch API (Champion: B) vs the current JobSearch API (Challenger: A) as a measure of change in engagement. The experiment was conducted in a 50%/50% split, for both products. Candidates were assigned groups by performing a modulus 100 on the hashed email address.  \n",
    "\n",
    "**Experiment Duration:** 4th October to 14th October. (this includes a 3 day burn in period to account for novelty affect)\n",
    "\n",
    "**Launch**<br>\n",
    "**5%**: Tuesday 01/10/2019<br>\n",
    "**10%**: Wednesday 02/10/2019<br>\n",
    "**25%**: Thursday 03/10/2019<br>\n",
    "**50%**: Friday 04/10/2019<br>\n",
    "**conclusion:** Monday 14/10/2019<br>\n",
    "\n",
    "**Null hypothesis:** There is no change in _job clicks per open_ per unique candidate between groups.\n",
    "\n",
    "**Alternative hypothesis:** SmarterSearch has greater _job clicks per open_ per unique candidate than JobSearch (alpha 0.05)\n",
    "\n",
    "$$H_0: \\mu SmarterSearch job ctr - \\mu JobSearch job ctr = 0$$\n",
    "$$H_1: \\mu SmarterSearch job ctr - \\mu JobSearch job ctr > 0$$\n",
    "\n",
    "**Results**\n",
    "There was an uplift of 0.0138 (12.3%) in _job clicks per open per unique candidate_ in favour of SmarterSearch, with a _p value of 0_ (statistically significant).\n",
    "\n",
    "\n",
    "**Details of Results**<br>\n",
    "Champion Size: 467,146 <br>\n",
    "Champion Mean: 0.126 <br>\n",
    "Champion Std Dev: 0.343 <br>\n",
    "<br>\n",
    "Challenger Size: 468,279 <br>\n",
    "Challenger Mean: 0.112 <br>\n",
    "Challenger Std Dev: 0.305 <br>\n",
    "<br>\n",
    "Diff in Means (abs): 0.0138 <br>\n",
    "Diff in Means (%): 12.3 <br>\n",
    "<br>\n",
    "T Statistic: 20.48 <br>\n",
    "P Value: 0.0 <br>"
   ]
  },
  {
   "cell_type": "code",
   "execution_count": 43,
   "metadata": {},
   "outputs": [],
   "source": [
    "import pandas as pd\n",
    "import numpy as np\n",
    "\n",
    "from scipy import stats\n",
    "from scipy.stats import ttest_ind\n",
    "from scipy.stats import t\n",
    "\n",
    "# plotting\n",
    "import altair as alt\n",
    "\n",
    "%matplotlib inline"
   ]
  },
  {
   "cell_type": "markdown",
   "metadata": {},
   "source": [
    "### Import Data"
   ]
  },
  {
   "cell_type": "code",
   "execution_count": 3,
   "metadata": {},
   "outputs": [
    {
     "name": "stdout",
     "output_type": "stream",
     "text": [
      "<class 'pandas.core.frame.DataFrame'>\n",
      "RangeIndex: 4004989 entries, 0 to 4004988\n",
      "Data columns (total 9 columns):\n",
      "date_key_aet       object\n",
      "candidate_id       int64\n",
      "hashed_email       object\n",
      "saved_search_id    int64\n",
      "message_type       object\n",
      "jobs_source        object\n",
      "opened             int64\n",
      "tot_clicks         int64\n",
      "job_clicks         int64\n",
      "dtypes: int64(5), object(4)\n",
      "memory usage: 275.0+ MB\n"
     ]
    }
   ],
   "source": [
    "# import data\n",
    "df_7 = pd.read_csv('JM_2019-10-07.csv')\n",
    "df_8 = pd.read_csv('JM_2019-10-08.csv')\n",
    "df_9 = pd.read_csv('JM_2019-10-09.csv')\n",
    "df_10 = pd.read_csv('JM_2019-10-10.csv')\n",
    "df_11 = pd.read_csv('JM_2019-10-11.csv')\n",
    "df_12 = pd.read_csv('JM_2019-10-12.csv')\n",
    "\n",
    "# Concat together\n",
    "df = pd.concat([df_7, df_8, df_9, df_10, df_11, df_12], ignore_index=True, sort=False) \n",
    "\n",
    "df.info()"
   ]
  },
  {
   "cell_type": "code",
   "execution_count": 3,
   "metadata": {},
   "outputs": [
    {
     "data": {
      "text/html": [
       "<div>\n",
       "<style scoped>\n",
       "    .dataframe tbody tr th:only-of-type {\n",
       "        vertical-align: middle;\n",
       "    }\n",
       "\n",
       "    .dataframe tbody tr th {\n",
       "        vertical-align: top;\n",
       "    }\n",
       "\n",
       "    .dataframe thead th {\n",
       "        text-align: right;\n",
       "    }\n",
       "</style>\n",
       "<table border=\"1\" class=\"dataframe\">\n",
       "  <thead>\n",
       "    <tr style=\"text-align: right;\">\n",
       "      <th></th>\n",
       "      <th>date_key_aet</th>\n",
       "      <th>candidate_id</th>\n",
       "      <th>hashed_email</th>\n",
       "      <th>saved_search_id</th>\n",
       "      <th>message_type</th>\n",
       "      <th>jobs_source</th>\n",
       "      <th>opened</th>\n",
       "      <th>tot_clicks</th>\n",
       "      <th>job_clicks</th>\n",
       "    </tr>\n",
       "  </thead>\n",
       "  <tbody>\n",
       "    <tr>\n",
       "      <td>0</td>\n",
       "      <td>2019-10-07</td>\n",
       "      <td>28019372</td>\n",
       "      <td>4dac74ec60782822b6515c29a5c64293</td>\n",
       "      <td>501579999</td>\n",
       "      <td>SeekDaily</td>\n",
       "      <td>JobSearchAPI (Elastic)</td>\n",
       "      <td>5</td>\n",
       "      <td>2</td>\n",
       "      <td>1</td>\n",
       "    </tr>\n",
       "    <tr>\n",
       "      <td>1</td>\n",
       "      <td>2019-10-07</td>\n",
       "      <td>27691570</td>\n",
       "      <td>d75f0c31ca0eaa2bdd51ace758dc8a39</td>\n",
       "      <td>500498362</td>\n",
       "      <td>SeekDaily</td>\n",
       "      <td>JobSearchAPI (Elastic)</td>\n",
       "      <td>2</td>\n",
       "      <td>1</td>\n",
       "      <td>0</td>\n",
       "    </tr>\n",
       "    <tr>\n",
       "      <td>2</td>\n",
       "      <td>2019-10-07</td>\n",
       "      <td>37297161</td>\n",
       "      <td>b20a7bf6dd5a170da989842953fee970</td>\n",
       "      <td>500771607</td>\n",
       "      <td>SeekDaily</td>\n",
       "      <td>JobSearchAPI (Elastic)</td>\n",
       "      <td>1</td>\n",
       "      <td>0</td>\n",
       "      <td>0</td>\n",
       "    </tr>\n",
       "    <tr>\n",
       "      <td>3</td>\n",
       "      <td>2019-10-07</td>\n",
       "      <td>31618679</td>\n",
       "      <td>d0d16d0eb063a9147628d6ccadd45c1b</td>\n",
       "      <td>18756235</td>\n",
       "      <td>SeekDaily</td>\n",
       "      <td>JobSearchAPI (Elastic)</td>\n",
       "      <td>2</td>\n",
       "      <td>0</td>\n",
       "      <td>0</td>\n",
       "    </tr>\n",
       "    <tr>\n",
       "      <td>4</td>\n",
       "      <td>2019-10-07</td>\n",
       "      <td>37283421</td>\n",
       "      <td>eee71a46abed99c0d03b246ed5a08236</td>\n",
       "      <td>16012444</td>\n",
       "      <td>SeekDaily</td>\n",
       "      <td>SmarterSearchBatch</td>\n",
       "      <td>4</td>\n",
       "      <td>0</td>\n",
       "      <td>0</td>\n",
       "    </tr>\n",
       "  </tbody>\n",
       "</table>\n",
       "</div>"
      ],
      "text/plain": [
       "  date_key_aet  candidate_id                      hashed_email  \\\n",
       "0   2019-10-07      28019372  4dac74ec60782822b6515c29a5c64293   \n",
       "1   2019-10-07      27691570  d75f0c31ca0eaa2bdd51ace758dc8a39   \n",
       "2   2019-10-07      37297161  b20a7bf6dd5a170da989842953fee970   \n",
       "3   2019-10-07      31618679  d0d16d0eb063a9147628d6ccadd45c1b   \n",
       "4   2019-10-07      37283421  eee71a46abed99c0d03b246ed5a08236   \n",
       "\n",
       "   saved_search_id message_type             jobs_source  opened  tot_clicks  \\\n",
       "0        501579999    SeekDaily  JobSearchAPI (Elastic)       5           2   \n",
       "1        500498362    SeekDaily  JobSearchAPI (Elastic)       2           1   \n",
       "2        500771607    SeekDaily  JobSearchAPI (Elastic)       1           0   \n",
       "3         18756235    SeekDaily  JobSearchAPI (Elastic)       2           0   \n",
       "4         16012444    SeekDaily      SmarterSearchBatch       4           0   \n",
       "\n",
       "   job_clicks  \n",
       "0           1  \n",
       "1           0  \n",
       "2           0  \n",
       "3           0  \n",
       "4           0  "
      ]
     },
     "execution_count": 3,
     "metadata": {},
     "output_type": "execute_result"
    }
   ],
   "source": [
    "df.head()"
   ]
  },
  {
   "cell_type": "markdown",
   "metadata": {},
   "source": [
    "### Clean and Split Data\n",
    "\n",
    "The primary metric is _job clicks per open per unique candidate_. To get this, we need to `groupby` `hashed_email` and retain `jobs_source`, then sum `opened`, `tot_clicks` and `job_clicks`"
   ]
  },
  {
   "cell_type": "code",
   "execution_count": 4,
   "metadata": {},
   "outputs": [
    {
     "data": {
      "text/html": [
       "<div>\n",
       "<style scoped>\n",
       "    .dataframe tbody tr th:only-of-type {\n",
       "        vertical-align: middle;\n",
       "    }\n",
       "\n",
       "    .dataframe tbody tr th {\n",
       "        vertical-align: top;\n",
       "    }\n",
       "\n",
       "    .dataframe thead th {\n",
       "        text-align: right;\n",
       "    }\n",
       "</style>\n",
       "<table border=\"1\" class=\"dataframe\">\n",
       "  <thead>\n",
       "    <tr style=\"text-align: right;\">\n",
       "      <th></th>\n",
       "      <th>hashed_email</th>\n",
       "      <th>jobs_source</th>\n",
       "      <th>opened</th>\n",
       "      <th>tot_clicks</th>\n",
       "      <th>job_clicks</th>\n",
       "      <th>tot_ctr</th>\n",
       "      <th>job_ctr</th>\n",
       "    </tr>\n",
       "  </thead>\n",
       "  <tbody>\n",
       "    <tr>\n",
       "      <td>0</td>\n",
       "      <td>1000066de4219506b9646442e0500beb</td>\n",
       "      <td>SmarterSearchBatch</td>\n",
       "      <td>11</td>\n",
       "      <td>1</td>\n",
       "      <td>0</td>\n",
       "      <td>0.090909</td>\n",
       "      <td>0.0</td>\n",
       "    </tr>\n",
       "    <tr>\n",
       "      <td>1</td>\n",
       "      <td>100036494080daa1821a201462eeec5a</td>\n",
       "      <td>JobSearchAPI (Elastic)</td>\n",
       "      <td>4</td>\n",
       "      <td>0</td>\n",
       "      <td>0</td>\n",
       "      <td>0.000000</td>\n",
       "      <td>0.0</td>\n",
       "    </tr>\n",
       "    <tr>\n",
       "      <td>4</td>\n",
       "      <td>100048dd0277ffc2930b6dc6d2dc901</td>\n",
       "      <td>SmarterSearchBatch</td>\n",
       "      <td>7</td>\n",
       "      <td>0</td>\n",
       "      <td>0</td>\n",
       "      <td>0.000000</td>\n",
       "      <td>0.0</td>\n",
       "    </tr>\n",
       "    <tr>\n",
       "      <td>5</td>\n",
       "      <td>100050577502409ede711313abd199b9</td>\n",
       "      <td>JobSearchAPI (Elastic)</td>\n",
       "      <td>6</td>\n",
       "      <td>0</td>\n",
       "      <td>0</td>\n",
       "      <td>0.000000</td>\n",
       "      <td>0.0</td>\n",
       "    </tr>\n",
       "    <tr>\n",
       "      <td>6</td>\n",
       "      <td>100080e4777942bcb78bd0a5184ffe10</td>\n",
       "      <td>JobSearchAPI (Elastic)</td>\n",
       "      <td>5</td>\n",
       "      <td>0</td>\n",
       "      <td>0</td>\n",
       "      <td>0.000000</td>\n",
       "      <td>0.0</td>\n",
       "    </tr>\n",
       "  </tbody>\n",
       "</table>\n",
       "</div>"
      ],
      "text/plain": [
       "                       hashed_email             jobs_source  opened  \\\n",
       "0  1000066de4219506b9646442e0500beb      SmarterSearchBatch      11   \n",
       "1  100036494080daa1821a201462eeec5a  JobSearchAPI (Elastic)       4   \n",
       "4   100048dd0277ffc2930b6dc6d2dc901      SmarterSearchBatch       7   \n",
       "5  100050577502409ede711313abd199b9  JobSearchAPI (Elastic)       6   \n",
       "6  100080e4777942bcb78bd0a5184ffe10  JobSearchAPI (Elastic)       5   \n",
       "\n",
       "   tot_clicks  job_clicks   tot_ctr  job_ctr  \n",
       "0           1           0  0.090909      0.0  \n",
       "1           0           0  0.000000      0.0  \n",
       "4           0           0  0.000000      0.0  \n",
       "5           0           0  0.000000      0.0  \n",
       "6           0           0  0.000000      0.0  "
      ]
     },
     "execution_count": 4,
     "metadata": {},
     "output_type": "execute_result"
    }
   ],
   "source": [
    "# remove unknown\n",
    "df = df[df['jobs_source'] != 'unknown']\n",
    "\n",
    "# group data\n",
    "df = df.groupby(['hashed_email', 'jobs_source'], as_index=False)[['opened', 'tot_clicks', 'job_clicks']].sum()\n",
    "\n",
    "# drop duplicates\n",
    "df.drop_duplicates(subset='hashed_email', keep=False, inplace=True)\n",
    "\n",
    "# add conversion\n",
    "df['tot_ctr'] = (df['tot_clicks'] / df['opened'])\n",
    "df['job_ctr'] = (df['job_clicks'] / df['opened'])\n",
    "\n",
    "# save grouped df\n",
    "#df.to_csv('JM_grouped.csv')\n",
    "\n",
    "# split into Control and Challenger\n",
    "df_a = df[df['jobs_source'] == 'JobSearchAPI (Elastic)']\n",
    "df_b = df[df['jobs_source'] == 'SmarterSearchBatch']\n",
    "\n",
    "# save data\n",
    "#df_a.to_csv('JM_A_data.csv', index=False)\n",
    "#df_b.to_csv('JM_B_data.csv', index=False)\n",
    "\n",
    "df.head()"
   ]
  },
  {
   "cell_type": "code",
   "execution_count": 6,
   "metadata": {},
   "outputs": [
    {
     "name": "stdout",
     "output_type": "stream",
     "text": [
      "<class 'pandas.core.frame.DataFrame'>\n",
      "Int64Index: 935425 entries, 0 to 995046\n",
      "Data columns (total 7 columns):\n",
      "hashed_email    935425 non-null object\n",
      "jobs_source     935425 non-null object\n",
      "opened          935425 non-null int64\n",
      "tot_clicks      935425 non-null int64\n",
      "job_clicks      935425 non-null int64\n",
      "tot_ctr         935425 non-null float64\n",
      "job_ctr         935425 non-null float64\n",
      "dtypes: float64(2), int64(3), object(2)\n",
      "memory usage: 57.1+ MB\n"
     ]
    }
   ],
   "source": [
    "df.info()"
   ]
  },
  {
   "cell_type": "code",
   "execution_count": 5,
   "metadata": {},
   "outputs": [
    {
     "data": {
      "text/plain": [
       "0"
      ]
     },
     "execution_count": 5,
     "metadata": {},
     "output_type": "execute_result"
    }
   ],
   "source": [
    "df.hashed_email.duplicated().sum()"
   ]
  },
  {
   "cell_type": "markdown",
   "metadata": {},
   "source": [
    "### Sample Stats for Data"
   ]
  },
  {
   "cell_type": "code",
   "execution_count": 5,
   "metadata": {},
   "outputs": [
    {
     "data": {
      "text/html": [
       "<div>\n",
       "<style scoped>\n",
       "    .dataframe tbody tr th:only-of-type {\n",
       "        vertical-align: middle;\n",
       "    }\n",
       "\n",
       "    .dataframe tbody tr th {\n",
       "        vertical-align: top;\n",
       "    }\n",
       "\n",
       "    .dataframe thead tr th {\n",
       "        text-align: left;\n",
       "    }\n",
       "\n",
       "    .dataframe thead tr:last-of-type th {\n",
       "        text-align: right;\n",
       "    }\n",
       "</style>\n",
       "<table border=\"1\" class=\"dataframe\">\n",
       "  <thead>\n",
       "    <tr>\n",
       "      <th></th>\n",
       "      <th colspan=\"8\" halign=\"left\">job_ctr</th>\n",
       "    </tr>\n",
       "    <tr>\n",
       "      <th></th>\n",
       "      <th>count</th>\n",
       "      <th>mean</th>\n",
       "      <th>std</th>\n",
       "      <th>min</th>\n",
       "      <th>25%</th>\n",
       "      <th>50%</th>\n",
       "      <th>75%</th>\n",
       "      <th>max</th>\n",
       "    </tr>\n",
       "    <tr>\n",
       "      <th>jobs_source</th>\n",
       "      <th></th>\n",
       "      <th></th>\n",
       "      <th></th>\n",
       "      <th></th>\n",
       "      <th></th>\n",
       "      <th></th>\n",
       "      <th></th>\n",
       "      <th></th>\n",
       "    </tr>\n",
       "  </thead>\n",
       "  <tbody>\n",
       "    <tr>\n",
       "      <td>JobSearchAPI (Elastic)</td>\n",
       "      <td>468279.0</td>\n",
       "      <td>0.111793</td>\n",
       "      <td>0.304797</td>\n",
       "      <td>0.0</td>\n",
       "      <td>0.0</td>\n",
       "      <td>0.0</td>\n",
       "      <td>0.083333</td>\n",
       "      <td>25.0</td>\n",
       "    </tr>\n",
       "    <tr>\n",
       "      <td>SmarterSearchBatch</td>\n",
       "      <td>467146.0</td>\n",
       "      <td>0.125544</td>\n",
       "      <td>0.343292</td>\n",
       "      <td>0.0</td>\n",
       "      <td>0.0</td>\n",
       "      <td>0.0</td>\n",
       "      <td>0.105263</td>\n",
       "      <td>33.0</td>\n",
       "    </tr>\n",
       "  </tbody>\n",
       "</table>\n",
       "</div>"
      ],
      "text/plain": [
       "                         job_ctr                                               \\\n",
       "                           count      mean       std  min  25%  50%       75%   \n",
       "jobs_source                                                                     \n",
       "JobSearchAPI (Elastic)  468279.0  0.111793  0.304797  0.0  0.0  0.0  0.083333   \n",
       "SmarterSearchBatch      467146.0  0.125544  0.343292  0.0  0.0  0.0  0.105263   \n",
       "\n",
       "                              \n",
       "                         max  \n",
       "jobs_source                   \n",
       "JobSearchAPI (Elastic)  25.0  \n",
       "SmarterSearchBatch      33.0  "
      ]
     },
     "execution_count": 5,
     "metadata": {},
     "output_type": "execute_result"
    }
   ],
   "source": [
    "# check 50/50 split\n",
    "df.groupby('jobs_source')[['job_ctr']].describe()"
   ]
  },
  {
   "cell_type": "code",
   "execution_count": 10,
   "metadata": {},
   "outputs": [
    {
     "data": {
      "text/html": [
       "<div>\n",
       "<style scoped>\n",
       "    .dataframe tbody tr th:only-of-type {\n",
       "        vertical-align: middle;\n",
       "    }\n",
       "\n",
       "    .dataframe tbody tr th {\n",
       "        vertical-align: top;\n",
       "    }\n",
       "\n",
       "    .dataframe thead tr th {\n",
       "        text-align: left;\n",
       "    }\n",
       "</style>\n",
       "<table border=\"1\" class=\"dataframe\">\n",
       "  <thead>\n",
       "    <tr>\n",
       "      <th></th>\n",
       "      <th colspan=\"4\" halign=\"left\">hashed_email</th>\n",
       "    </tr>\n",
       "    <tr>\n",
       "      <th></th>\n",
       "      <th>count</th>\n",
       "      <th>unique</th>\n",
       "      <th>top</th>\n",
       "      <th>freq</th>\n",
       "    </tr>\n",
       "  </thead>\n",
       "  <tbody>\n",
       "    <tr>\n",
       "      <td>0</td>\n",
       "      <td>468279</td>\n",
       "      <td>468279</td>\n",
       "      <td>c26dd7cdea33878dd31da4779bd77510</td>\n",
       "      <td>1</td>\n",
       "    </tr>\n",
       "    <tr>\n",
       "      <td>1</td>\n",
       "      <td>467146</td>\n",
       "      <td>467146</td>\n",
       "      <td>6e8c63a89588ad0045d6586ac9b0a8b9</td>\n",
       "      <td>1</td>\n",
       "    </tr>\n",
       "  </tbody>\n",
       "</table>\n",
       "</div>"
      ],
      "text/plain": [
       "  hashed_email                                               \n",
       "         count  unique                               top freq\n",
       "0       468279  468279  c26dd7cdea33878dd31da4779bd77510    1\n",
       "1       467146  467146  6e8c63a89588ad0045d6586ac9b0a8b9    1"
      ]
     },
     "execution_count": 10,
     "metadata": {},
     "output_type": "execute_result"
    }
   ],
   "source": [
    "# check candidate split\n",
    "df.groupby('jobs_source', as_index=False)[['hashed_email']].describe()"
   ]
  },
  {
   "cell_type": "markdown",
   "metadata": {},
   "source": [
    "# T-Test\n",
    "### Job clicks per open per unique caniddate"
   ]
  },
  {
   "cell_type": "code",
   "execution_count": 10,
   "metadata": {},
   "outputs": [
    {
     "data": {
      "text/html": [
       "<div>\n",
       "<style scoped>\n",
       "    .dataframe tbody tr th:only-of-type {\n",
       "        vertical-align: middle;\n",
       "    }\n",
       "\n",
       "    .dataframe tbody tr th {\n",
       "        vertical-align: top;\n",
       "    }\n",
       "\n",
       "    .dataframe thead th {\n",
       "        text-align: right;\n",
       "    }\n",
       "</style>\n",
       "<table border=\"1\" class=\"dataframe\">\n",
       "  <thead>\n",
       "    <tr style=\"text-align: right;\">\n",
       "      <th></th>\n",
       "      <th>hashed_email</th>\n",
       "      <th>jobs_source</th>\n",
       "      <th>opened</th>\n",
       "      <th>tot_clicks</th>\n",
       "      <th>job_clicks</th>\n",
       "      <th>tot_ctr</th>\n",
       "      <th>job_ctr</th>\n",
       "    </tr>\n",
       "  </thead>\n",
       "  <tbody>\n",
       "    <tr>\n",
       "      <td>1</td>\n",
       "      <td>100036494080daa1821a201462eeec5a</td>\n",
       "      <td>JobSearchAPI (Elastic)</td>\n",
       "      <td>4</td>\n",
       "      <td>0</td>\n",
       "      <td>0</td>\n",
       "      <td>0.0</td>\n",
       "      <td>0.0</td>\n",
       "    </tr>\n",
       "    <tr>\n",
       "      <td>5</td>\n",
       "      <td>100050577502409ede711313abd199b9</td>\n",
       "      <td>JobSearchAPI (Elastic)</td>\n",
       "      <td>6</td>\n",
       "      <td>0</td>\n",
       "      <td>0</td>\n",
       "      <td>0.0</td>\n",
       "      <td>0.0</td>\n",
       "    </tr>\n",
       "    <tr>\n",
       "      <td>6</td>\n",
       "      <td>100080e4777942bcb78bd0a5184ffe10</td>\n",
       "      <td>JobSearchAPI (Elastic)</td>\n",
       "      <td>5</td>\n",
       "      <td>0</td>\n",
       "      <td>0</td>\n",
       "      <td>0.0</td>\n",
       "      <td>0.0</td>\n",
       "    </tr>\n",
       "    <tr>\n",
       "      <td>11</td>\n",
       "      <td>1000b487ff2ee45a4397fd195253aea0</td>\n",
       "      <td>JobSearchAPI (Elastic)</td>\n",
       "      <td>7</td>\n",
       "      <td>0</td>\n",
       "      <td>0</td>\n",
       "      <td>0.0</td>\n",
       "      <td>0.0</td>\n",
       "    </tr>\n",
       "    <tr>\n",
       "      <td>15</td>\n",
       "      <td>1000e31522bda565e5804e188f7f385</td>\n",
       "      <td>JobSearchAPI (Elastic)</td>\n",
       "      <td>7</td>\n",
       "      <td>0</td>\n",
       "      <td>0</td>\n",
       "      <td>0.0</td>\n",
       "      <td>0.0</td>\n",
       "    </tr>\n",
       "  </tbody>\n",
       "</table>\n",
       "</div>"
      ],
      "text/plain": [
       "                        hashed_email             jobs_source  opened  \\\n",
       "1   100036494080daa1821a201462eeec5a  JobSearchAPI (Elastic)       4   \n",
       "5   100050577502409ede711313abd199b9  JobSearchAPI (Elastic)       6   \n",
       "6   100080e4777942bcb78bd0a5184ffe10  JobSearchAPI (Elastic)       5   \n",
       "11  1000b487ff2ee45a4397fd195253aea0  JobSearchAPI (Elastic)       7   \n",
       "15   1000e31522bda565e5804e188f7f385  JobSearchAPI (Elastic)       7   \n",
       "\n",
       "    tot_clicks  job_clicks  tot_ctr  job_ctr  \n",
       "1            0           0      0.0      0.0  \n",
       "5            0           0      0.0      0.0  \n",
       "6            0           0      0.0      0.0  \n",
       "11           0           0      0.0      0.0  \n",
       "15           0           0      0.0      0.0  "
      ]
     },
     "execution_count": 10,
     "metadata": {},
     "output_type": "execute_result"
    }
   ],
   "source": [
    "df_a.head()"
   ]
  },
  {
   "cell_type": "code",
   "execution_count": 26,
   "metadata": {},
   "outputs": [
    {
     "name": "stdout",
     "output_type": "stream",
     "text": [
      "0.11179297463416903 0.12554393842256895 0.30479745103799977 0.3432921021253699\n"
     ]
    }
   ],
   "source": [
    "## JOB CTR\n",
    "alpha = 0.05\n",
    "a_n, b_n = len(df_a.jobs_source), len(df_b.jobs_source) \n",
    "\n",
    "\n",
    "## STEP 1\n",
    "# means\n",
    "a_mean, b_mean = df_a.job_ctr.mean(), df_b.job_ctr.mean()\n",
    "\n",
    "## STEP 2\n",
    "# calculate standard deviation\n",
    "a_std, b_std = df_a.job_ctr.std(), df_b.job_ctr.std()\n",
    "\n",
    "print(a_mean, b_mean, a_std, b_std)"
   ]
  },
  {
   "cell_type": "code",
   "execution_count": 29,
   "metadata": {},
   "outputs": [
    {
     "name": "stdout",
     "output_type": "stream",
     "text": [
      "0.00044540900146539727 0.0005022702957911757 0.0006713155953950104 0.01375096378839992\n"
     ]
    }
   ],
   "source": [
    "# calculate the standars error\n",
    "# se = std / sqrt(n)\n",
    "\n",
    "# STEP 3\n",
    "a_se, b_se = (a_std / np.sqrt(a_n)), (b_std / np.sqrt(b_n)) \n",
    "\n",
    "# STEP 3a\n",
    "# calculate the standard error on the difference between the samples\n",
    "sed = np.sqrt(a_se**2.0 + b_se**2.0)\n",
    "\n",
    "print(a_se, b_se, sed, (b_mean - a_mean))"
   ]
  },
  {
   "cell_type": "code",
   "execution_count": 37,
   "metadata": {},
   "outputs": [
    {
     "name": "stdout",
     "output_type": "stream",
     "text": [
      "20.483605449846106 935423\n"
     ]
    }
   ],
   "source": [
    "# STEP 4\n",
    "# t-stat\n",
    "t_stat = (b_mean - a_mean) / sed\n",
    "\n",
    "\n",
    "# STEP 5\n",
    "# degrees of freedom\n",
    "degf = b_n + a_n - 2\n",
    "\n",
    "# STEP 6\n",
    "# calculate the critical value\n",
    "cv = t.ppf(1.0 - alpha, degf)\n",
    "\n",
    "print(t_stat, degf)"
   ]
  },
  {
   "cell_type": "code",
   "execution_count": 38,
   "metadata": {},
   "outputs": [
    {
     "name": "stdout",
     "output_type": "stream",
     "text": [
      "20.483605449846106 0.0\n"
     ]
    }
   ],
   "source": [
    "# STEP 7\n",
    "# calculate p-value for T-distribution\n",
    "# calculate the probability of getting a result at least as extreme as our t-stat (-6.4)\n",
    "# multiply by 2 because we want to know EITHER positive or negative\n",
    "p = (1 - t.cdf(abs(t_stat), degf)) * 2\n",
    "print(t_stat, p)"
   ]
  },
  {
   "cell_type": "markdown",
   "metadata": {},
   "source": [
    "**Check results with SciPy**"
   ]
  },
  {
   "cell_type": "code",
   "execution_count": 39,
   "metadata": {},
   "outputs": [
    {
     "data": {
      "text/plain": [
       "Ttest_indResult(statistic=20.48654259088619, pvalue=2.975935673127763e-93)"
      ]
     },
     "execution_count": 39,
     "metadata": {},
     "output_type": "execute_result"
    }
   ],
   "source": [
    "data_a, data_b = df_a.job_ctr, df_b.job_ctr\n",
    "\n",
    "stats.ttest_ind(data_b, data_a)"
   ]
  },
  {
   "cell_type": "markdown",
   "metadata": {},
   "source": [
    "Check results with [Evan Miller](https://www.evanmiller.org/ab-testing/t-test.html)"
   ]
  },
  {
   "cell_type": "markdown",
   "metadata": {},
   "source": [
    "![](JM_EM_result.PNG)\n",
    "\n",
    "## Interpreting results/ Notes\n",
    "- Let's assume Null hypothesis (H0) is true\n",
    "- set a significance level of 0.05 (5%)\n",
    "- Assuming the null is true, what is the probability of getting a difference between sample proportions this extreme or more.\n",
    "- if this probability is less than significance level we then reject the null, suggesting the alternative\n",
    "\n",
    "\n",
    "- If the probability of the difference value from the experiment is less than or equal to 5%, the experiment most likely did not happen by \"chance\" alone. \n",
    "- Thus, the results show a statistically significant difference between the two groups.\n",
    "\n",
    "\n",
    "- we are figuring out what the probability is of getting a result at least as extreme or more extreme than the sample statistic (ie T Stat)\n",
    "- probability that the sample stat will fall in the shaded area of the distribution\n"
   ]
  },
  {
   "cell_type": "markdown",
   "metadata": {},
   "source": [
    "## Alternate Method\n",
    "### Analysing the difference in means"
   ]
  },
  {
   "cell_type": "markdown",
   "metadata": {},
   "source": [
    "Job Clicks per Open per Unique Candidate\n",
    "\n",
    "**H0:** $\\mu$SmarterSearch ctr - $\\mu$JobSearch ctr = 0<br>\n",
    "**H1:** $\\mu$SmarterSearch ctr - $\\mu$JobSearch ctr > 0"
   ]
  },
  {
   "cell_type": "code",
   "execution_count": 1,
   "metadata": {},
   "outputs": [],
   "source": [
    "import pandas as pd\n",
    "import numpy as np\n",
    "\n",
    "from scipy import stats\n",
    "from scipy.stats import ttest_ind\n",
    "from scipy.stats import t\n",
    "\n",
    "# plotting\n",
    "import altair as alt\n",
    "\n",
    "import matplotlib.pyplot as plt\n",
    "%matplotlib inline"
   ]
  },
  {
   "cell_type": "code",
   "execution_count": 9,
   "metadata": {},
   "outputs": [
    {
     "data": {
      "text/html": [
       "<div>\n",
       "<style scoped>\n",
       "    .dataframe tbody tr th:only-of-type {\n",
       "        vertical-align: middle;\n",
       "    }\n",
       "\n",
       "    .dataframe tbody tr th {\n",
       "        vertical-align: top;\n",
       "    }\n",
       "\n",
       "    .dataframe thead th {\n",
       "        text-align: right;\n",
       "    }\n",
       "</style>\n",
       "<table border=\"1\" class=\"dataframe\">\n",
       "  <thead>\n",
       "    <tr style=\"text-align: right;\">\n",
       "      <th></th>\n",
       "      <th>hashed_email</th>\n",
       "      <th>jobs_source</th>\n",
       "      <th>opened</th>\n",
       "      <th>tot_clicks</th>\n",
       "      <th>job_clicks</th>\n",
       "      <th>tot_ctr</th>\n",
       "      <th>job_ctr</th>\n",
       "    </tr>\n",
       "  </thead>\n",
       "  <tbody>\n",
       "    <tr>\n",
       "      <td>0</td>\n",
       "      <td>1000066de4219506b9646442e0500beb</td>\n",
       "      <td>SmarterSearchBatch</td>\n",
       "      <td>11</td>\n",
       "      <td>1</td>\n",
       "      <td>0</td>\n",
       "      <td>0.090909</td>\n",
       "      <td>0.000000</td>\n",
       "    </tr>\n",
       "    <tr>\n",
       "      <td>1</td>\n",
       "      <td>100048dd0277ffc2930b6dc6d2dc901</td>\n",
       "      <td>SmarterSearchBatch</td>\n",
       "      <td>7</td>\n",
       "      <td>0</td>\n",
       "      <td>0</td>\n",
       "      <td>0.000000</td>\n",
       "      <td>0.000000</td>\n",
       "    </tr>\n",
       "    <tr>\n",
       "      <td>2</td>\n",
       "      <td>10008f867f3a2018bf9c8f47963ad69c</td>\n",
       "      <td>SmarterSearchBatch</td>\n",
       "      <td>3</td>\n",
       "      <td>1</td>\n",
       "      <td>1</td>\n",
       "      <td>0.333333</td>\n",
       "      <td>0.333333</td>\n",
       "    </tr>\n",
       "    <tr>\n",
       "      <td>3</td>\n",
       "      <td>1000901de60bcbff52d240af921a8291</td>\n",
       "      <td>SmarterSearchBatch</td>\n",
       "      <td>1</td>\n",
       "      <td>0</td>\n",
       "      <td>0</td>\n",
       "      <td>0.000000</td>\n",
       "      <td>0.000000</td>\n",
       "    </tr>\n",
       "    <tr>\n",
       "      <td>4</td>\n",
       "      <td>1000a1cf6cfb22a3abefba367b946cb</td>\n",
       "      <td>SmarterSearchBatch</td>\n",
       "      <td>4</td>\n",
       "      <td>2</td>\n",
       "      <td>1</td>\n",
       "      <td>0.500000</td>\n",
       "      <td>0.250000</td>\n",
       "    </tr>\n",
       "  </tbody>\n",
       "</table>\n",
       "</div>"
      ],
      "text/plain": [
       "                       hashed_email         jobs_source  opened  tot_clicks  \\\n",
       "0  1000066de4219506b9646442e0500beb  SmarterSearchBatch      11           1   \n",
       "1   100048dd0277ffc2930b6dc6d2dc901  SmarterSearchBatch       7           0   \n",
       "2  10008f867f3a2018bf9c8f47963ad69c  SmarterSearchBatch       3           1   \n",
       "3  1000901de60bcbff52d240af921a8291  SmarterSearchBatch       1           0   \n",
       "4   1000a1cf6cfb22a3abefba367b946cb  SmarterSearchBatch       4           2   \n",
       "\n",
       "   job_clicks   tot_ctr   job_ctr  \n",
       "0           0  0.090909  0.000000  \n",
       "1           0  0.000000  0.000000  \n",
       "2           1  0.333333  0.333333  \n",
       "3           0  0.000000  0.000000  \n",
       "4           1  0.500000  0.250000  "
      ]
     },
     "execution_count": 9,
     "metadata": {},
     "output_type": "execute_result"
    }
   ],
   "source": [
    "df_a = pd.read_csv('JM_A_data.csv')\n",
    "df_b = pd.read_csv('JM_B_data.csv')\n",
    "\n",
    "df = pd.concat([df_a, df_b], ignore_index=True)\n",
    "\n",
    "df_b.head()"
   ]
  },
  {
   "cell_type": "code",
   "execution_count": 29,
   "metadata": {},
   "outputs": [
    {
     "data": {
      "text/plain": [
       "0.11179297463416903"
      ]
     },
     "execution_count": 29,
     "metadata": {},
     "output_type": "execute_result"
    }
   ],
   "source": [
    "# mean CTR for JobSearch\n",
    "a_ctr_mean = df_a['job_ctr'].mean()\n",
    "a_ctr_mean"
   ]
  },
  {
   "cell_type": "code",
   "execution_count": 31,
   "metadata": {},
   "outputs": [
    {
     "data": {
      "text/plain": [
       "0.12554393842256892"
      ]
     },
     "execution_count": 31,
     "metadata": {},
     "output_type": "execute_result"
    }
   ],
   "source": [
    "# mean CTR for SmarterSearch\n",
    "b_ctr_mean = df_b['job_ctr'].mean()\n",
    "b_ctr_mean"
   ]
  },
  {
   "cell_type": "code",
   "execution_count": 33,
   "metadata": {},
   "outputs": [
    {
     "data": {
      "text/plain": [
       "0.013750963788399892"
      ]
     },
     "execution_count": 33,
     "metadata": {},
     "output_type": "execute_result"
    }
   ],
   "source": [
    "obs_diff = b_ctr_mean - a_ctr_mean\n",
    "obs_diff"
   ]
  },
  {
   "cell_type": "markdown",
   "metadata": {},
   "source": [
    "## Check significance \n",
    "- Bootstrap sample to simulate sampling dist for difference in means\n",
    "- We can compute p-value for our statistic (observed diff in means) by simulating the distribution under the null hypothesis, then finding probability that our statistic came from this distribution."
   ]
  },
  {
   "cell_type": "code",
   "execution_count": 34,
   "metadata": {},
   "outputs": [],
   "source": [
    "diffs = []\n",
    "\n",
    "for _ in range(10000):\n",
    "    # sample 20% of data\n",
    "    boot_sample = df.sample(frac=.2, replace=True)\n",
    "    # split dfs\n",
    "    a_df = boot_sample.query('jobs_source == \"JobSearchAPI (Elastic)\"')\n",
    "    b_df = boot_sample.query('jobs_source == \"SmarterSearchBatch\"')\n",
    "    # calc ctr\n",
    "    ctr_a_mean = a_df['job_ctr'].mean()\n",
    "    ctr_b_mean = b_df['job_ctr'].mean()\n",
    "    \n",
    "    # add difference to diffs list\n",
    "    diffs.append(ctr_b_mean - ctr_a_mean)\n",
    "    "
   ]
  },
  {
   "cell_type": "code",
   "execution_count": 35,
   "metadata": {},
   "outputs": [
    {
     "data": {
      "image/png": "[encoded data removed]",
      "text/plain": [
       "<Figure size 432x288 with 1 Axes>"
      ]
     },
     "metadata": {
      "needs_background": "light"
     },
     "output_type": "display_data"
    }
   ],
   "source": [
    "# plot the observed statistic (diff in means)\n",
    "\n",
    "plt.hist(diffs);"
   ]
  },
  {
   "cell_type": "markdown",
   "metadata": {},
   "source": [
    "To simulate from the null, create a norm distribution, centred at 0, with the same std deviation as our sampling distribution above. "
   ]
  },
  {
   "cell_type": "code",
   "execution_count": 40,
   "metadata": {},
   "outputs": [
    {
     "data": {
      "image/png": "[encoded data removed]",
      "text/plain": [
       "<Figure size 432x288 with 1 Axes>"
      ]
     },
     "metadata": {
      "needs_background": "light"
     },
     "output_type": "display_data"
    }
   ],
   "source": [
    "diffs = np.array(diffs)\n",
    "# random normal distribution centred at 0 with same standard deviation as our above distribution\n",
    "null_vals = np.random.normal(0, diffs.std(), diffs.size)\n",
    "\n",
    "\n",
    "plt.hist(null_vals);\n",
    "plt.axvline(obs_diff, color='red');"
   ]
  },
  {
   "cell_type": "code",
   "execution_count": 38,
   "metadata": {},
   "outputs": [
    {
     "data": {
      "text/plain": [
       "0.0"
      ]
     },
     "execution_count": 38,
     "metadata": {},
     "output_type": "execute_result"
    }
   ],
   "source": [
    "# find the p value\n",
    "# null values that are more expreme than our statistic in favour of alternative\n",
    "\n",
    "p = (null_vals > obs_diff).mean()\n",
    "p"
   ]
  },
  {
   "cell_type": "code",
   "execution_count": 42,
   "metadata": {},
   "outputs": [
    {
     "name": "stdout",
     "output_type": "stream",
     "text": [
      "0.013750963788399892 0.013758157472184177\n"
     ]
    }
   ],
   "source": [
    "print(obs_diff, diffs.mean())"
   ]
  }
 ],
 "metadata": {
  "kernelspec": {
   "display_name": "Python 3",
   "language": "python",
   "name": "python3"
  },
  "language_info": {
   "codemirror_mode": {
    "name": "ipython",
    "version": 3
   },
   "file_extension": ".py",
   "mimetype": "text/x-python",
   "name": "python",
   "nbconvert_exporter": "python",
   "pygments_lexer": "ipython3",
   "version": "3.6.5"
  }
 },
 "nbformat": 4,
 "nbformat_minor": 4
}
